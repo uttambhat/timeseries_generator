{
 "cells": [
  {
   "cell_type": "code",
   "execution_count": 1,
   "id": "d91f8ea1-ac7e-400e-b1d2-6bcb4c425349",
   "metadata": {},
   "outputs": [
    {
     "data": {
      "text/html": [
       "        <script type=\"text/javascript\">\n",
       "        window.PlotlyConfig = {MathJaxConfig: 'local'};\n",
       "        if (window.MathJax && window.MathJax.Hub && window.MathJax.Hub.Config) {window.MathJax.Hub.Config({SVG: {font: \"STIX-Web\"}});}\n",
       "        if (typeof require !== 'undefined') {\n",
       "        require.undef(\"plotly\");\n",
       "        requirejs.config({\n",
       "            paths: {\n",
       "                'plotly': ['https://cdn.plot.ly/plotly-2.35.2.min']\n",
       "            }\n",
       "        });\n",
       "        require(['plotly'], function(Plotly) {\n",
       "            window._Plotly = Plotly;\n",
       "        });\n",
       "        }\n",
       "        </script>\n",
       "        "
      ]
     },
     "metadata": {},
     "output_type": "display_data"
    }
   ],
   "source": [
    "import sys\n",
    "\n",
    "import matplotlib.pyplot as plt\n",
    "import numpy as np\n",
    "import pandas as pd\n",
    "import plotly.express as px\n",
    "import plotly.offline as pyo\n",
    "import random\n",
    "pyo.init_notebook_mode(connected=True)\n",
    "import plotly.io as pio\n",
    "pio.renderers.default = 'notebook'\n",
    "from matplotlib.animation import FuncAnimation\n",
    "\n",
    "\n",
    "sys.path.append(\"/home/uttam/Dropbox/Projects/timeseries_generator/src/\")\n",
    "from generators import Particle"
   ]
  },
  {
   "cell_type": "code",
   "execution_count": 5,
   "id": "aff556a7-a7c2-4b3d-9788-98ace24c6367",
   "metadata": {},
   "outputs": [
    {
     "name": "stdout",
     "output_type": "stream",
     "text": [
      "0, 10, 20, 30, 40, 50, 60, 70, 80, 90, 100, 110, 120, 130, 140, 150, 160, 170, 180, 190, 200, 210, 220, 230, 240, 250, 260, 270, 280, 290, 300, 310, 320, 330, 340, 350, 360, 370, 380, 390, 400, 410, 420, 430, 440, 450, 460, 470, 480, 490, 500, 510, 520, 530, 540, 550, 560, 570, 580, 590, 600, 610, 620, 630, 640, 650, 660, 670, 680, 690, 700, 710, 720, 730, 740, 750, 760, 770, 780, 790, 800, 810, 820, 830, 840, 850, 860, 870, 880, 890, 900, 910, 920, 930, 940, 950, 960, 970, 980, 990, "
     ]
    }
   ],
   "source": [
    "dimension = 2\n",
    "particle = Particle(location=np.zeros(dimension), fertility=0.5, mortality=0.05, diffusion_quantity=\"velocity\")\n",
    "particles_dict = {}\n",
    "particles_dict[0] = particle\n",
    "particle_id_max = 0\n",
    "locations_df = pd.DataFrame({\"time\": 0.0, \"particle_id\": [0], \"x\": [0.0], \"y\": [0.0]})\n",
    "recording_interval = 10\n",
    "\n",
    "time = 0.0\n",
    "dtime = 1.0\n",
    "for iterate in range(1000):\n",
    "    new_particles_list = []\n",
    "    killed_particles_list = []\n",
    "    total_particles = len(particles_dict)\n",
    "    for particle_id in particles_dict.keys():\n",
    "        particle = particles_dict[particle_id]\n",
    "        particle.move(dtime=dtime)\n",
    "        reproduce = particle.reproduce(dtime=dtime, custom_parameters={\"fertility\": 0.5 * (1.0 - total_particles / 1000.0)})\n",
    "        if reproduce:\n",
    "            new_particles_list.append(reproduce)\n",
    "        survive = particle.survive(dtime=dtime)\n",
    "        if not survive:\n",
    "            killed_particles_list.append(particle_id)\n",
    "    if len(new_particles_list) > 0:\n",
    "        for i, particle in enumerate(new_particles_list):\n",
    "            particles_dict[particle_id_max + i + 1] = particle\n",
    "        particle_id_max = particle_id_max + len(new_particles_list)\n",
    "    if len(killed_particles_list) > 0:\n",
    "        for particle_id in killed_particles_list:\n",
    "            del particles_dict[particle_id]\n",
    "    time += dtime\n",
    "    if iterate % recording_interval == 0:\n",
    "        particles_id_list = list(particles_dict.keys())\n",
    "        x_list = [particles_dict[particle_id].location[0] for particle_id in particles_id_list]\n",
    "        y_list = [particles_dict[particle_id].location[1] for particle_id in particles_id_list]\n",
    "        locations_df = pd.concat([\n",
    "            locations_df,\n",
    "            pd.DataFrame({\n",
    "                \"time\": time * np.ones(len(particles_dict)),\n",
    "                \"particle_id\": particles_id_list,\n",
    "                \"x\": x_list,\n",
    "                \"y\": y_list\n",
    "            })\n",
    "        ])\n",
    "    if len(particles_dict) == 0 or len(locations_df) > 500000:\n",
    "        break\n",
    "    if iterate % 10 == 0:\n",
    "        print(iterate, end=\", \")"
   ]
  },
  {
   "cell_type": "code",
   "execution_count": 6,
   "id": "f7c45182-9b7c-4665-8904-801cb78d4207",
   "metadata": {},
   "outputs": [
    {
     "data": {
      "text/plain": [
       "93385"
      ]
     },
     "execution_count": 6,
     "metadata": {},
     "output_type": "execute_result"
    }
   ],
   "source": [
    "locations_df[\"size\"] = 20\n",
    "len(locations_df)"
   ]
  },
  {
   "cell_type": "code",
   "execution_count": 7,
   "id": "fe0575f9-2c89-4450-a3df-530153b7aa85",
   "metadata": {},
   "outputs": [],
   "source": [
    "fig = px.scatter(\n",
    "    locations_df,\n",
    "    x=\"x\", y=\"y\", animation_frame=\"time\", animation_group=\"particle_id\",\n",
    "    color=\"particle_id\", hover_name=\"particle_id\",\n",
    "    range_x=[locations_df[\"x\"].min(),locations_df[\"x\"].max()], range_y=[locations_df[\"y\"].min(), locations_df[\"y\"].max()],\n",
    "    size=\"size\", \n",
    ")\n",
    "fig.write_html(\"/home/uttam/Dropbox/Projects/timeseries_generator/figures/test.html\")"
   ]
  },
  {
   "cell_type": "code",
   "execution_count": null,
   "id": "36e7494a-1d65-4a39-9dae-12a64d1ac677",
   "metadata": {},
   "outputs": [],
   "source": []
  }
 ],
 "metadata": {
  "kernelspec": {
   "display_name": "Python 3",
   "language": "python",
   "name": "python3"
  },
  "language_info": {
   "codemirror_mode": {
    "name": "ipython",
    "version": 3
   },
   "file_extension": ".py",
   "mimetype": "text/x-python",
   "name": "python",
   "nbconvert_exporter": "python",
   "pygments_lexer": "ipython3",
   "version": "3.8.8"
  }
 },
 "nbformat": 4,
 "nbformat_minor": 5
}
